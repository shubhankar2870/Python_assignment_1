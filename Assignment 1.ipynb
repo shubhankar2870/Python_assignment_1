{
 "cells": [
  {
   "cell_type": "code",
   "execution_count": 1,
   "id": "61cd7930-0c88-4b0c-9a7b-cb1b4bc188b8",
   "metadata": {},
   "outputs": [
    {
     "name": "stdout",
     "output_type": "stream",
     "text": [
      "Before swapping:\n",
      "x = 10\n",
      "y = 24\n",
      "After swapping:\n",
      "x = 24\n",
      "y = 10\n"
     ]
    }
   ],
   "source": [
    "x = 10\n",
    "y = 24\n",
    "\n",
    "print(\"Before swapping:\")\n",
    "print(\"x =\", x)\n",
    "print(\"y =\", y)\n",
    "\n",
    "x = x + y\n",
    "y = x - y\n",
    "x = x - y\n",
    "\n",
    "print(\"After swapping:\")\n",
    "print(\"x =\", x)\n",
    "print(\"y =\", y)"
   ]
  },
  {
   "cell_type": "code",
   "execution_count": 4,
   "id": "5ce012bf-c65f-4a59-9a4a-3dbe4b99c07c",
   "metadata": {},
   "outputs": [
    {
     "name": "stdin",
     "output_type": "stream",
     "text": [
      " 12\n",
      " 10\n"
     ]
    },
    {
     "name": "stdout",
     "output_type": "stream",
     "text": [
      "area of rectanle is:  120\n"
     ]
    }
   ],
   "source": [
    "length = int(input())\n",
    "width = int(input())\n",
    "print(\"area of rectanle is: \", length*width)"
   ]
  },
  {
   "cell_type": "code",
   "execution_count": 5,
   "id": "913c9013-4dc1-4417-8bf2-8af586316260",
   "metadata": {},
   "outputs": [
    {
     "name": "stdin",
     "output_type": "stream",
     "text": [
      "Enter temperature in Celsius:  18\n"
     ]
    },
    {
     "name": "stdout",
     "output_type": "stream",
     "text": [
      "18.0  Celsius is equal to  64.4  Fahrenheit\n"
     ]
    }
   ],
   "source": [
    "celsius = float(input(\"Enter temperature in Celsius: \"))\n",
    "\n",
    "fahrenheit = (celsius * 9/5) + 32\n",
    "\n",
    "print(celsius, \" Celsius is equal to \",fahrenheit, \" Fahrenheit\")"
   ]
  },
  {
   "cell_type": "code",
   "execution_count": 6,
   "id": "d8e7c98a-92ab-46b4-a10e-7adde6a27762",
   "metadata": {},
   "outputs": [
    {
     "name": "stdin",
     "output_type": "stream",
     "text": [
      "enter string: xyz abc\n"
     ]
    },
    {
     "name": "stdout",
     "output_type": "stream",
     "text": [
      "7\n"
     ]
    }
   ],
   "source": [
    "s1 = input(\"enter string:\")\n",
    "print(len(s1))"
   ]
  },
  {
   "cell_type": "code",
   "execution_count": 7,
   "id": "35f5d99b-f066-407e-97f6-62b4e9eaa6eb",
   "metadata": {},
   "outputs": [
    {
     "name": "stdin",
     "output_type": "stream",
     "text": [
      "enter a sentence: A week has seven days\n"
     ]
    },
    {
     "name": "stdout",
     "output_type": "stream",
     "text": [
      "the number of vowels in the sentence is:  7\n"
     ]
    }
   ],
   "source": [
    "s2 = input(\"enter a sentence:\")\n",
    "vowels = \"aeiouAEIOU\" #contains both uppercase and lowercase vowels\n",
    "vowel_count = 0\n",
    "\n",
    "for i in s2:\n",
    "    if i in vowels:\n",
    "        vowel_count += 1\n",
    "        \n",
    "print(\"the number of vowels in the sentence is: \", vowel_count)"
   ]
  },
  {
   "cell_type": "code",
   "execution_count": 9,
   "id": "9de5343e-490c-46c1-abba-ba323e1734a8",
   "metadata": {},
   "outputs": [
    {
     "name": "stdout",
     "output_type": "stream",
     "text": [
      "elgooG\n"
     ]
    }
   ],
   "source": [
    "s3 = \"Google\"\n",
    "reversed_string = s3[ : :-1]\n",
    "print(reversed_string)"
   ]
  },
  {
   "cell_type": "code",
   "execution_count": null,
   "id": "28b37812-532b-447c-b265-3c08e34e7ff5",
   "metadata": {},
   "outputs": [],
   "source": [
    "def is_palindrome(input_str):\n",
    "    input_str = input_str.lower()\n",
    "    i = 0\n",
    "    j = len(input_str) - 1\n",
    "\n",
    "    while i <= j:\n",
    "        if input_str[i] != input_str[j]:\n",
    "            return False\n",
    "        i += 1\n",
    "        j -= 1\n",
    "    return True\n",
    "\n",
    "s = input(\"Enter a string: \")\n",
    "if is_palindrome(s):\n",
    "    print(\"The input string is a palindrome.\")\n",
    "else:\n",
    "    print(\"The input string is not a palindrome.\")\n"
   ]
  },
  {
   "cell_type": "code",
   "execution_count": null,
   "id": "f96ec176-b5a4-4e7d-bf6c-8813757e131e",
   "metadata": {},
   "outputs": [],
   "source": [
    "input_str = input(\"Enter a string: \")\n",
    "\n",
    "modified_str = input_str.replace(\" \", \"\")\n",
    "\n",
    "print(\"Modified string:\", modified_str)"
   ]
  }
 ],
 "metadata": {
  "kernelspec": {
   "display_name": "Python 3 (ipykernel)",
   "language": "python",
   "name": "python3"
  },
  "language_info": {
   "codemirror_mode": {
    "name": "ipython",
    "version": 3
   },
   "file_extension": ".py",
   "mimetype": "text/x-python",
   "name": "python",
   "nbconvert_exporter": "python",
   "pygments_lexer": "ipython3",
   "version": "3.10.8"
  }
 },
 "nbformat": 4,
 "nbformat_minor": 5
}
